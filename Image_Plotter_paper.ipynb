{
 "cells": [
  {
   "cell_type": "code",
   "execution_count": 1,
   "metadata": {},
   "outputs": [
    {
     "name": "stderr",
     "output_type": "stream",
     "text": [
      "/Users/silburt/anaconda2/envs/plotting/lib/python2.7/site-packages/h5py/__init__.py:34: FutureWarning: Conversion of the second argument of issubdtype from `float` to `np.floating` is deprecated. In future, it will be treated as `np.float64 == np.dtype(float).type`.\n",
      "  from ._conv import register_converters as _register_converters\n",
      "/Users/silburt/anaconda2/envs/plotting/lib/python2.7/site-packages/matplotlib/font_manager.py:273: UserWarning: Matplotlib is building the font cache using fc-list. This may take a moment.\n",
      "  warnings.warn('Matplotlib is building the font cache using fc-list. This may take a moment.')\n"
     ]
    }
   ],
   "source": [
    "import numpy as np, h5py\n",
    "from PIL import Image\n",
    "import sys\n",
    "import pandas as pd\n",
    "import cv2\n",
    "import matplotlib.pyplot as plt\n",
    "from utils.processing import *\n",
    "from utils.template_match_target import *\n",
    "import os\n",
    "%matplotlib inline\n",
    "\n",
    "def pix2coord(x, y, pixbd, llbd):\n",
    "    \"\"\"NEWLY PROGRAMMED\"\"\"\n",
    "    long = (x / float(pixbd[0])) * (llbd[1] - llbd[0]) + llbd[0]\n",
    "    lat = llbd[3] - (y / float(pixbd[1])) * (llbd[3] - llbd[2])\n",
    "    return long, lat"
   ]
  },
  {
   "cell_type": "markdown",
   "metadata": {},
   "source": [
    "## Plot crater dists"
   ]
  },
  {
   "cell_type": "code",
   "execution_count": 2,
   "metadata": {},
   "outputs": [
    {
     "name": "stderr",
     "output_type": "stream",
     "text": [
      "/Users/silburt/anaconda2/envs/plotting/lib/python2.7/site-packages/PIL/Image.py:2371: DecompressionBombWarning: Image size (2831155200 pixels) exceeds limit of 89478485 pixels, could be decompression bomb DOS attack.\n",
      "  DecompressionBombWarning)\n"
     ]
    }
   ],
   "source": [
    "# Open image, inport crater files\n",
    "#img_global = Image.open('tests/LunarLROLrocKaguya_1180mperpix_downsamp.png').convert(\"L\")  #smaller sized image\n",
    "img_global = Image.open('../moon-craters/utils/LunarLROLrocKaguya_118mperpix.png').convert(\"L\")"
   ]
  },
  {
   "cell_type": "code",
   "execution_count": 3,
   "metadata": {
    "collapsed": true
   },
   "outputs": [],
   "source": [
    "def get_stats(post_processed, csv_coords, longlat_thresh2=2.6, rad_thresh=1.8, radcut=0):\n",
    "    #post_processed = pred[pred.T[2] > radcut]\n",
    "    \n",
    "    N_match, err_lo, err_la, err_r, beta = 0, 0, 0, 0, 1\n",
    "    N_csv, N_detect = len(csv_coords), len(post_processed)\n",
    "    k2d = 180. / (np.pi * 1737.4)       # km to deg\n",
    "    N_match = 0\n",
    "    frac_dupes = 0\n",
    "    N_csv, N_detect = len(csv_coords), len(post_processed)\n",
    "    new_craters_i, matched_craters_i = [], []\n",
    "    for i in range(len(post_processed)):\n",
    "        lo, la, r = post_processed[i]\n",
    "        Long, Lat, Rad = csv_coords.T\n",
    "        minr = np.minimum(r, Rad)\n",
    "        la_m = (la + Lat) / 2.\n",
    "        \n",
    "        dL = (((Long - lo) / (minr * k2d / np.cos(np.pi * la_m / 180.)))**2 + ((Lat - la) / (minr * k2d))**2)\n",
    "        dR = np.abs(Rad - r) / minr\n",
    "        \n",
    "        index = (dR < rad_thresh) & (dL < longlat_thresh2)\n",
    "        index_True = np.where(index == True)[0]\n",
    "        N = len(index_True)\n",
    "        if N >= 1:\n",
    "            matched_craters_i += [i]\n",
    "            if N > 1:\n",
    "                min_index = np.argmin(dL + dR**2)\n",
    "                for j in range(len(index_True)):\n",
    "                    if index_True[j] != min_index:\n",
    "                        index[index_True[j]] = False\n",
    "        else:\n",
    "            new_craters_i += [i]\n",
    "        N_match += min(1, N)\n",
    "        # remove csv(s) so it can't be re-matched again\n",
    "        csv_coords = csv_coords[np.where(index == False)]\n",
    "        if len(csv_coords) == 0:\n",
    "            break\n",
    "            \n",
    "    p = float(N_match) / float(N_match + (N_detect - N_match))\n",
    "    r = float(N_match) / float(N_csv)\n",
    "    f = (1 + beta**2) * (r * p) / (p * beta**2 + r)\n",
    "    print(\"For this image:\")\n",
    "    print(\"precision: %.3f, recall=%.3f, f1=%.3f\"%(p, r, f))\n",
    "    #print(\"long_err=%.3f, lat_err=%.3f, rad_err=%.3f\"%(err_lo/N_detect, err_la/N_detect, err_r/N_detect))\n",
    "    print(\"frac_new_craters=(N_detect-N_match)/N_csv=%.3f\"%((N_detect - N_match)/float(N_csv)))\n",
    "    \n",
    "    return matched_craters_i, new_craters_i, csv_coords"
   ]
  },
  {
   "cell_type": "code",
   "execution_count": 9,
   "metadata": {
    "collapsed": true
   },
   "outputs": [],
   "source": [
    "def coord2pix(long, lat, pixbd, llbd):\n",
    "    \"\"\"NEWLY PROGRAMMED\"\"\"\n",
    "    x = (long - llbd[0]) / (llbd[1] - llbd[0]) * pixbd[0]\n",
    "    y = (llbd[3] - lat) / (llbd[3] - llbd[2]) * pixbd[1]\n",
    "    return x, y\n",
    "\n",
    "def cropcraters(craters, llbd):\n",
    "    return craters[(craters.T[0] >= llbd[0]) & (craters.T[0] < llbd[1]) &\n",
    "                   (craters.T[1] >= llbd[2]) & (craters.T[1] < llbd[3])]\n",
    "\n",
    "def plot_craters(craters,GT_craters,xc,yc,rawlen,llt2,rt2,mr,i=0,plot_new_only=0):\n",
    "    box = np.array([xc, yc, xc + rawlen, yc + rawlen], dtype='int32')\n",
    "\n",
    "    img = img_global.crop(box)\n",
    "    llbd = pix2coord(box[0::2], box[1::2], img_global.size, [-180., 180., -60., 60.])\n",
    "    #print(\"longlat bounds:\",llbd)\n",
    "    llbd = np.concatenate([llbd[0], llbd[1][::-1]])\n",
    "    ctrs_sub = cropcraters(craters, llbd)\n",
    "    GTctrs_sub = cropcraters(GT_craters, llbd)\n",
    "\n",
    "    x, y = coord2pix(ctrs_sub.T[0], ctrs_sub.T[1], img.size, llbd)\n",
    "    r = ctrs_sub.T[2]/((llbd[3]-llbd[2])*(np.pi / 180.0)*(1737.4/(box[2]-box[0])))\n",
    "\n",
    "    GTx, GTy = coord2pix(GTctrs_sub.T[0], GTctrs_sub.T[1], img.size, llbd)\n",
    "    GTr = GTctrs_sub.T[2]/((llbd[3]-llbd[2])*(np.pi / 180.0)*(1737.4/(box[2]-box[0])))\n",
    "\n",
    "    #precision/recall/f1 stats\n",
    "    matched_craters_i, new_craters_i, GT_remain = get_stats(ctrs_sub, GTctrs_sub, llt2, rt2, min(GTctrs_sub.T[2]))\n",
    "    \n",
    "    f, ((ax1, ax2), (ax3,ax4)) = plt.subplots(2,2, figsize=[15, 16])\n",
    "    plt.tight_layout()\n",
    "    fontsize = 30\n",
    "    img = np.asanyarray(img)\n",
    "    min_, max_ = np.min(img), np.max(img)\n",
    "    ax1.imshow(img, cmap='Greys_r', vmin=min_, vmax=max_)\n",
    "    ax1.set_title('Post-Processed Craters', fontsize=fontsize)\n",
    "    ax2.imshow(img, cmap='Greys_r', vmin=min_, vmax=max_)\n",
    "    ax2.set_title('Ground-Truth Craters', fontsize=fontsize)\n",
    "    for k in matched_craters_i:\n",
    "        circle = plt.Circle((x[k], y[k]), r[k], color='blue', fill=False, linewidth=2, alpha=0.5)\n",
    "        ax1.add_artist(circle)\n",
    "    for k in new_craters_i:\n",
    "        circle = plt.Circle((x[k], y[k]), r[k], color='red', fill=False, linewidth=2, alpha=0.5)\n",
    "        ax1.add_artist(circle)\n",
    "    for k in range(len(GTctrs_sub)):\n",
    "        color = 'blue'\n",
    "        if GTctrs_sub[k] in GT_remain:\n",
    "            #color = 'fuchsia'\n",
    "            color = 'darkgreen'\n",
    "        circle = plt.Circle((GTx[k], GTy[k]), GTr[k], color=color, fill=False, linewidth=2, alpha=0.5)\n",
    "        ax2.add_artist(circle)\n",
    "    ax3.imshow(img, cmap='Greys_r', vmin=min_, vmax=max_)\n",
    "    ax3.set_title('Moon DEM', fontsize=fontsize)\n",
    "    ax1.xaxis.set_visible(False)\n",
    "    ax1.yaxis.set_visible(False)\n",
    "    ax2.xaxis.set_visible(False)\n",
    "    ax2.yaxis.set_visible(False)\n",
    "    ax3.xaxis.set_visible(False)\n",
    "    ax3.yaxis.set_visible(False)\n",
    "    ax4.axis('off')\n",
    "    plt.savefig('images/llt%s_rt%s_mr%d_xc%d_yc%d_rawlen%d_green.pdf'%(llt,rt,mr,xc,yc,rawlen))\n",
    "    plt.close()\n",
    "    \n",
    "    return ctrs_sub"
   ]
  },
  {
   "cell_type": "code",
   "execution_count": 10,
   "metadata": {
    "collapsed": true
   },
   "outputs": [],
   "source": [
    "# get pred\n",
    "dtype='test'\n",
    "llt, rt, mr = '2.60', '1.80', '5'\n",
    "craters = np.load('datasets/HEAD/HEAD_%s_craterdist_llt%s_rt%s_fin3.npy'%(dtype,llt,rt))\n",
    "\n",
    "# get GT\n",
    "truthalan = pd.read_csv('catalogues/LROCCraters.csv')\n",
    "truthhead = pd.read_csv('catalogues/HeadCraters.csv')\n",
    "truthhead = truthhead[(truthhead['Lat']>=-60)&(truthhead['Lat']<=60)]\n",
    "truthalan = truthalan[(truthalan['Lat']>=-60)&(truthalan['Lat']<=60)]\n",
    "if dtype == 'test':\n",
    "    truthalan = truthalan[truthalan['Long']>60]        #region of test data\n",
    "    truthhead = truthhead[(truthhead['Lon']>60)&(truthhead['Diam_km']>20.)]\n",
    "elif dtype == 'dev':\n",
    "    truthalan = truthalan[(truthalan['Long']>-60)&(truthalan['Long']<60)]        #region of test data\n",
    "    truthhead = truthhead[(truthhead['Lon']<60)&(truthhead['Lon']>-60)&(truthhead['Diam_km']>20.)]\n",
    "\n",
    "rad = np.concatenate((truthalan['Diameter (km)'].values/2.,truthhead['Diam_km'].values/2.))\n",
    "long = np.concatenate((truthalan['Long'].values,truthhead['Lon'].values))\n",
    "lat = np.concatenate((truthalan['Lat'].values,truthhead['Lat'].values))\n",
    "\n",
    "GT_craters = np.column_stack((long, lat, rad))"
   ]
  },
  {
   "cell_type": "code",
   "execution_count": 11,
   "metadata": {},
   "outputs": [
    {
     "name": "stdout",
     "output_type": "stream",
     "text": [
      "For this image:\n",
      "precision: 0.580, recall=0.936, f1=0.716\n",
      "frac_new_craters=(N_detect-N_match)/N_csv=0.677\n"
     ]
    }
   ],
   "source": [
    "# plot individual, by pixels\n",
    "#xp,yp,rawlen = 0.6,0.6,500\n",
    "#xp,yp,rawlen = 0.55,0.5,500     #downsampled version\n",
    "xp,yp,rawlen = 0.55,0.5,5000      #HQ version\n",
    "\n",
    "if dtype == 'dev':\n",
    "    xc = xp*img_global.size[0]/3 + img_global.size[0]/3\n",
    "elif dtype == 'test':\n",
    "    xc = xp*img_global.size[0]/3 + 2*img_global.size[0]/3\n",
    "    \n",
    "yc = yp*img_global.size[1]\n",
    "#xc, yc, rawlen = 4608, 1843, 500\n",
    "\n",
    "ctrs = plot_craters(craters,GT_craters,xc,yc,rawlen,float(llt),float(rt),int(mr))"
   ]
  },
  {
   "cell_type": "code",
   "execution_count": null,
   "metadata": {
    "collapsed": true
   },
   "outputs": [],
   "source": []
  }
 ],
 "metadata": {
  "kernelspec": {
   "display_name": "Python 2",
   "language": "python",
   "name": "python2"
  },
  "language_info": {
   "codemirror_mode": {
    "name": "ipython",
    "version": 2
   },
   "file_extension": ".py",
   "mimetype": "text/x-python",
   "name": "python",
   "nbconvert_exporter": "python",
   "pygments_lexer": "ipython2",
   "version": "2.7.13"
  }
 },
 "nbformat": 4,
 "nbformat_minor": 2
}
